{
 "cells": [
  {
   "cell_type": "code",
   "execution_count": 1,
   "id": "138d03bf",
   "metadata": {},
   "outputs": [],
   "source": [
    "import pandas as pd\n",
    "\n",
    "import matplotlib.pyplot as plt\n",
    "import seaborn as sns\n",
    "\n",
    "from sklearn.model_selection import train_test_split\n",
    "from sklearn.model_selection import StratifiedKFold"
   ]
  },
  {
   "cell_type": "code",
   "execution_count": 2,
   "id": "4fb12d24",
   "metadata": {},
   "outputs": [],
   "source": [
    "train = pd.read_csv(\"../data/train.csv\")\n",
    "test = pd.read_csv(\"../data/test.csv\")\n",
    "\n",
    "final_train = train.copy()\n",
    "final_test = test.copy()"
   ]
  },
  {
   "cell_type": "code",
   "execution_count": 3,
   "id": "5e32cb7b",
   "metadata": {},
   "outputs": [
    {
     "data": {
      "text/html": [
       "<div>\n",
       "<style scoped>\n",
       "    .dataframe tbody tr th:only-of-type {\n",
       "        vertical-align: middle;\n",
       "    }\n",
       "\n",
       "    .dataframe tbody tr th {\n",
       "        vertical-align: top;\n",
       "    }\n",
       "\n",
       "    .dataframe thead th {\n",
       "        text-align: right;\n",
       "    }\n",
       "</style>\n",
       "<table border=\"1\" class=\"dataframe\">\n",
       "  <thead>\n",
       "    <tr style=\"text-align: right;\">\n",
       "      <th></th>\n",
       "      <th>index</th>\n",
       "      <th>Q1</th>\n",
       "      <th>Q2</th>\n",
       "      <th>Q3</th>\n",
       "      <th>Q4</th>\n",
       "      <th>Q5</th>\n",
       "      <th>Q6</th>\n",
       "      <th>Q7</th>\n",
       "      <th>Q8</th>\n",
       "      <th>Q9</th>\n",
       "      <th>...</th>\n",
       "      <th>engnat</th>\n",
       "      <th>age</th>\n",
       "      <th>hand</th>\n",
       "      <th>religion</th>\n",
       "      <th>orientation</th>\n",
       "      <th>voted</th>\n",
       "      <th>married</th>\n",
       "      <th>familysize</th>\n",
       "      <th>ASD</th>\n",
       "      <th>nerdiness</th>\n",
       "    </tr>\n",
       "  </thead>\n",
       "  <tbody>\n",
       "    <tr>\n",
       "      <th>0</th>\n",
       "      <td>0</td>\n",
       "      <td>1.0</td>\n",
       "      <td>5.0</td>\n",
       "      <td>5.0</td>\n",
       "      <td>5.0</td>\n",
       "      <td>1.0</td>\n",
       "      <td>4.0</td>\n",
       "      <td>5.0</td>\n",
       "      <td>5.0</td>\n",
       "      <td>1.0</td>\n",
       "      <td>...</td>\n",
       "      <td>1.0</td>\n",
       "      <td>20</td>\n",
       "      <td>2.0</td>\n",
       "      <td>12.0</td>\n",
       "      <td>4.0</td>\n",
       "      <td>2.0</td>\n",
       "      <td>1.0</td>\n",
       "      <td>4.0</td>\n",
       "      <td>2.0</td>\n",
       "      <td>1</td>\n",
       "    </tr>\n",
       "    <tr>\n",
       "      <th>1</th>\n",
       "      <td>1</td>\n",
       "      <td>4.0</td>\n",
       "      <td>4.0</td>\n",
       "      <td>4.0</td>\n",
       "      <td>4.0</td>\n",
       "      <td>4.0</td>\n",
       "      <td>5.0</td>\n",
       "      <td>4.0</td>\n",
       "      <td>4.0</td>\n",
       "      <td>3.0</td>\n",
       "      <td>...</td>\n",
       "      <td>1.0</td>\n",
       "      <td>49</td>\n",
       "      <td>1.0</td>\n",
       "      <td>2.0</td>\n",
       "      <td>1.0</td>\n",
       "      <td>1.0</td>\n",
       "      <td>2.0</td>\n",
       "      <td>4.0</td>\n",
       "      <td>2.0</td>\n",
       "      <td>1</td>\n",
       "    </tr>\n",
       "    <tr>\n",
       "      <th>2</th>\n",
       "      <td>2</td>\n",
       "      <td>4.0</td>\n",
       "      <td>5.0</td>\n",
       "      <td>5.0</td>\n",
       "      <td>4.0</td>\n",
       "      <td>3.0</td>\n",
       "      <td>5.0</td>\n",
       "      <td>5.0</td>\n",
       "      <td>5.0</td>\n",
       "      <td>4.0</td>\n",
       "      <td>...</td>\n",
       "      <td>2.0</td>\n",
       "      <td>43</td>\n",
       "      <td>1.0</td>\n",
       "      <td>2.0</td>\n",
       "      <td>2.0</td>\n",
       "      <td>2.0</td>\n",
       "      <td>3.0</td>\n",
       "      <td>4.0</td>\n",
       "      <td>2.0</td>\n",
       "      <td>1</td>\n",
       "    </tr>\n",
       "    <tr>\n",
       "      <th>3</th>\n",
       "      <td>3</td>\n",
       "      <td>4.0</td>\n",
       "      <td>4.0</td>\n",
       "      <td>4.0</td>\n",
       "      <td>2.0</td>\n",
       "      <td>4.0</td>\n",
       "      <td>3.0</td>\n",
       "      <td>3.0</td>\n",
       "      <td>5.0</td>\n",
       "      <td>3.0</td>\n",
       "      <td>...</td>\n",
       "      <td>1.0</td>\n",
       "      <td>17</td>\n",
       "      <td>2.0</td>\n",
       "      <td>1.0</td>\n",
       "      <td>1.0</td>\n",
       "      <td>2.0</td>\n",
       "      <td>1.0</td>\n",
       "      <td>2.0</td>\n",
       "      <td>2.0</td>\n",
       "      <td>1</td>\n",
       "    </tr>\n",
       "    <tr>\n",
       "      <th>4</th>\n",
       "      <td>4</td>\n",
       "      <td>4.0</td>\n",
       "      <td>4.0</td>\n",
       "      <td>4.0</td>\n",
       "      <td>4.0</td>\n",
       "      <td>3.0</td>\n",
       "      <td>3.0</td>\n",
       "      <td>4.0</td>\n",
       "      <td>2.0</td>\n",
       "      <td>3.0</td>\n",
       "      <td>...</td>\n",
       "      <td>2.0</td>\n",
       "      <td>18</td>\n",
       "      <td>2.0</td>\n",
       "      <td>12.0</td>\n",
       "      <td>1.0</td>\n",
       "      <td>2.0</td>\n",
       "      <td>1.0</td>\n",
       "      <td>1.0</td>\n",
       "      <td>2.0</td>\n",
       "      <td>0</td>\n",
       "    </tr>\n",
       "  </tbody>\n",
       "</table>\n",
       "<p>5 rows × 70 columns</p>\n",
       "</div>"
      ],
      "text/plain": [
       "   index   Q1   Q2   Q3   Q4   Q5   Q6   Q7   Q8   Q9  ...  engnat  age  hand  \\\n",
       "0      0  1.0  5.0  5.0  5.0  1.0  4.0  5.0  5.0  1.0  ...     1.0   20   2.0   \n",
       "1      1  4.0  4.0  4.0  4.0  4.0  5.0  4.0  4.0  3.0  ...     1.0   49   1.0   \n",
       "2      2  4.0  5.0  5.0  4.0  3.0  5.0  5.0  5.0  4.0  ...     2.0   43   1.0   \n",
       "3      3  4.0  4.0  4.0  2.0  4.0  3.0  3.0  5.0  3.0  ...     1.0   17   2.0   \n",
       "4      4  4.0  4.0  4.0  4.0  3.0  3.0  4.0  2.0  3.0  ...     2.0   18   2.0   \n",
       "\n",
       "   religion  orientation  voted  married  familysize  ASD  nerdiness  \n",
       "0      12.0          4.0    2.0      1.0         4.0  2.0          1  \n",
       "1       2.0          1.0    1.0      2.0         4.0  2.0          1  \n",
       "2       2.0          2.0    2.0      3.0         4.0  2.0          1  \n",
       "3       1.0          1.0    2.0      1.0         2.0  2.0          1  \n",
       "4      12.0          1.0    2.0      1.0         1.0  2.0          0  \n",
       "\n",
       "[5 rows x 70 columns]"
      ]
     },
     "execution_count": 3,
     "metadata": {},
     "output_type": "execute_result"
    }
   ],
   "source": [
    "train.head()"
   ]
  },
  {
   "cell_type": "code",
   "execution_count": 4,
   "id": "69df1851",
   "metadata": {},
   "outputs": [
    {
     "data": {
      "text/plain": [
       "Index(['index', 'Q1', 'Q2', 'Q3', 'Q4', 'Q5', 'Q6', 'Q7', 'Q8', 'Q9', 'Q10',\n",
       "       'Q11', 'Q12', 'Q13', 'Q14', 'Q15', 'Q16', 'Q17', 'Q18', 'Q19', 'Q20',\n",
       "       'Q21', 'Q22', 'Q23', 'Q24', 'Q25', 'Q26', 'country', 'introelapse',\n",
       "       'testelapse', 'surveyelapse', 'TIPI1', 'TIPI2', 'TIPI3', 'TIPI4',\n",
       "       'TIPI5', 'TIPI6', 'TIPI7', 'TIPI8', 'TIPI9', 'TIPI10', 'VCL1', 'VCL2',\n",
       "       'VCL3', 'VCL4', 'VCL5', 'VCL6', 'VCL7', 'VCL8', 'VCL9', 'VCL10',\n",
       "       'VCL11', 'VCL12', 'VCL13', 'VCL14', 'VCL15', 'VCL16', 'education',\n",
       "       'urban', 'gender', 'engnat', 'age', 'hand', 'religion', 'orientation',\n",
       "       'voted', 'married', 'familysize', 'ASD', 'nerdiness'],\n",
       "      dtype='object')"
      ]
     },
     "execution_count": 4,
     "metadata": {},
     "output_type": "execute_result"
    }
   ],
   "source": [
    "train.columns"
   ]
  },
  {
   "cell_type": "markdown",
   "id": "a6ff8375",
   "metadata": {},
   "source": [
    "## About Q1 ~ Q26"
   ]
  },
  {
   "cell_type": "code",
   "execution_count": 5,
   "id": "d7d0d6b5",
   "metadata": {},
   "outputs": [],
   "source": [
    "Qs = ['Q1', 'Q2', 'Q3', 'Q4', 'Q5', 'Q6',\n",
    "     'Q7', 'Q8', 'Q9', 'Q10', 'Q11', 'Q12',\n",
    "     'Q13', 'Q14', 'Q15', 'Q16', 'Q17', 'Q18',\n",
    "     'Q19', 'Q20', 'Q21', 'Q22', 'Q23', 'Q24',\n",
    "     'Q25', 'Q26']"
   ]
  },
  {
   "cell_type": "code",
   "execution_count": 6,
   "id": "eda3c0e2",
   "metadata": {},
   "outputs": [
    {
     "data": {
      "text/plain": [
       "<AxesSubplot:>"
      ]
     },
     "execution_count": 6,
     "metadata": {},
     "output_type": "execute_result"
    },
    {
     "data": {
      "image/png": "[encoded data removed]",
      "text/plain": [
       "<Figure size 432x288 with 2 Axes>"
      ]
     },
     "metadata": {
      "needs_background": "light"
     },
     "output_type": "display_data"
    }
   ],
   "source": [
    "correlations = train[Qs].corr(method = 'spearman')\n",
    "sns.heatmap(correlations, cmap=\"coolwarm\", square=True, center=0)"
   ]
  },
  {
   "cell_type": "code",
   "execution_count": 7,
   "id": "6e5c19b1",
   "metadata": {},
   "outputs": [],
   "source": [
    "train['Qs_Mach'] = train[Qs].mean(axis = 1)\n",
    "test['Qs_Mach'] = test[Qs].mean(axis = 1)"
   ]
  },
  {
   "cell_type": "code",
   "execution_count": 8,
   "id": "c015a5bf",
   "metadata": {},
   "outputs": [
    {
     "data": {
      "text/plain": [
       "<AxesSubplot:xlabel='Qs_Mach', ylabel='Count'>"
      ]
     },
     "execution_count": 8,
     "metadata": {},
     "output_type": "execute_result"
    },
    {
     "data": {
      "image/png": "[encoded data removed]",
      "text/plain": [
       "<Figure size 1008x432 with 2 Axes>"
      ]
     },
     "metadata": {
      "needs_background": "light"
     },
     "output_type": "display_data"
    }
   ],
   "source": [
    "f,ax = plt.subplots(1, 2, figsize=(14, 6))\n",
    "sns.histplot(train, x=\"Qs_Mach\", bins=100, ax=ax[0])\n",
    "sns.histplot(test, x=\"Qs_Mach\", bins=100, ax=ax[1])"
   ]
  },
  {
   "cell_type": "code",
   "execution_count": 9,
   "id": "39c3932a",
   "metadata": {},
   "outputs": [],
   "source": [
    "final_train['Qs_Mach'] = train['Qs_Mach']\n",
    "final_test['Qs_Mach'] = test['Qs_Mach']"
   ]
  },
  {
   "cell_type": "code",
   "execution_count": 10,
   "id": "fa399155",
   "metadata": {},
   "outputs": [
    {
     "data": {
      "text/html": [
       "<div>\n",
       "<style scoped>\n",
       "    .dataframe tbody tr th:only-of-type {\n",
       "        vertical-align: middle;\n",
       "    }\n",
       "\n",
       "    .dataframe tbody tr th {\n",
       "        vertical-align: top;\n",
       "    }\n",
       "\n",
       "    .dataframe thead th {\n",
       "        text-align: right;\n",
       "    }\n",
       "</style>\n",
       "<table border=\"1\" class=\"dataframe\">\n",
       "  <thead>\n",
       "    <tr style=\"text-align: right;\">\n",
       "      <th></th>\n",
       "      <th>Q1</th>\n",
       "      <th>Q2</th>\n",
       "      <th>Q3</th>\n",
       "      <th>Q4</th>\n",
       "      <th>Q5</th>\n",
       "      <th>Q6</th>\n",
       "      <th>Q7</th>\n",
       "      <th>Q8</th>\n",
       "      <th>Q9</th>\n",
       "    </tr>\n",
       "  </thead>\n",
       "  <tbody>\n",
       "    <tr>\n",
       "      <th>count</th>\n",
       "      <td>14959.000000</td>\n",
       "      <td>14931.000000</td>\n",
       "      <td>14950.000000</td>\n",
       "      <td>14929.000000</td>\n",
       "      <td>14962.000000</td>\n",
       "      <td>14952.000000</td>\n",
       "      <td>14924.000000</td>\n",
       "      <td>14952.000000</td>\n",
       "      <td>14944.000000</td>\n",
       "    </tr>\n",
       "    <tr>\n",
       "      <th>mean</th>\n",
       "      <td>3.972859</td>\n",
       "      <td>4.065702</td>\n",
       "      <td>4.222809</td>\n",
       "      <td>3.795499</td>\n",
       "      <td>3.856503</td>\n",
       "      <td>3.676364</td>\n",
       "      <td>4.183262</td>\n",
       "      <td>3.879013</td>\n",
       "      <td>3.915418</td>\n",
       "    </tr>\n",
       "    <tr>\n",
       "      <th>std</th>\n",
       "      <td>1.095914</td>\n",
       "      <td>1.169681</td>\n",
       "      <td>1.023335</td>\n",
       "      <td>1.219940</td>\n",
       "      <td>1.195622</td>\n",
       "      <td>1.170986</td>\n",
       "      <td>1.059756</td>\n",
       "      <td>1.302081</td>\n",
       "      <td>1.117625</td>\n",
       "    </tr>\n",
       "    <tr>\n",
       "      <th>min</th>\n",
       "      <td>1.000000</td>\n",
       "      <td>1.000000</td>\n",
       "      <td>1.000000</td>\n",
       "      <td>1.000000</td>\n",
       "      <td>1.000000</td>\n",
       "      <td>1.000000</td>\n",
       "      <td>1.000000</td>\n",
       "      <td>1.000000</td>\n",
       "      <td>1.000000</td>\n",
       "    </tr>\n",
       "    <tr>\n",
       "      <th>25%</th>\n",
       "      <td>3.000000</td>\n",
       "      <td>4.000000</td>\n",
       "      <td>4.000000</td>\n",
       "      <td>3.000000</td>\n",
       "      <td>3.000000</td>\n",
       "      <td>3.000000</td>\n",
       "      <td>4.000000</td>\n",
       "      <td>3.000000</td>\n",
       "      <td>3.000000</td>\n",
       "    </tr>\n",
       "    <tr>\n",
       "      <th>50%</th>\n",
       "      <td>4.000000</td>\n",
       "      <td>4.000000</td>\n",
       "      <td>5.000000</td>\n",
       "      <td>4.000000</td>\n",
       "      <td>4.000000</td>\n",
       "      <td>4.000000</td>\n",
       "      <td>5.000000</td>\n",
       "      <td>4.000000</td>\n",
       "      <td>4.000000</td>\n",
       "    </tr>\n",
       "    <tr>\n",
       "      <th>75%</th>\n",
       "      <td>5.000000</td>\n",
       "      <td>5.000000</td>\n",
       "      <td>5.000000</td>\n",
       "      <td>5.000000</td>\n",
       "      <td>5.000000</td>\n",
       "      <td>5.000000</td>\n",
       "      <td>5.000000</td>\n",
       "      <td>5.000000</td>\n",
       "      <td>5.000000</td>\n",
       "    </tr>\n",
       "    <tr>\n",
       "      <th>max</th>\n",
       "      <td>5.000000</td>\n",
       "      <td>5.000000</td>\n",
       "      <td>5.000000</td>\n",
       "      <td>5.000000</td>\n",
       "      <td>5.000000</td>\n",
       "      <td>5.000000</td>\n",
       "      <td>5.000000</td>\n",
       "      <td>5.000000</td>\n",
       "      <td>5.000000</td>\n",
       "    </tr>\n",
       "  </tbody>\n",
       "</table>\n",
       "</div>"
      ],
      "text/plain": [
       "                 Q1            Q2            Q3            Q4            Q5  \\\n",
       "count  14959.000000  14931.000000  14950.000000  14929.000000  14962.000000   \n",
       "mean       3.972859      4.065702      4.222809      3.795499      3.856503   \n",
       "std        1.095914      1.169681      1.023335      1.219940      1.195622   \n",
       "min        1.000000      1.000000      1.000000      1.000000      1.000000   \n",
       "25%        3.000000      4.000000      4.000000      3.000000      3.000000   \n",
       "50%        4.000000      4.000000      5.000000      4.000000      4.000000   \n",
       "75%        5.000000      5.000000      5.000000      5.000000      5.000000   \n",
       "max        5.000000      5.000000      5.000000      5.000000      5.000000   \n",
       "\n",
       "                 Q6            Q7            Q8            Q9  \n",
       "count  14952.000000  14924.000000  14952.000000  14944.000000  \n",
       "mean       3.676364      4.183262      3.879013      3.915418  \n",
       "std        1.170986      1.059756      1.302081      1.117625  \n",
       "min        1.000000      1.000000      1.000000      1.000000  \n",
       "25%        3.000000      4.000000      3.000000      3.000000  \n",
       "50%        4.000000      5.000000      4.000000      4.000000  \n",
       "75%        5.000000      5.000000      5.000000      5.000000  \n",
       "max        5.000000      5.000000      5.000000      5.000000  "
      ]
     },
     "metadata": {},
     "output_type": "display_data"
    },
    {
     "data": {
      "text/html": [
       "<div>\n",
       "<style scoped>\n",
       "    .dataframe tbody tr th:only-of-type {\n",
       "        vertical-align: middle;\n",
       "    }\n",
       "\n",
       "    .dataframe tbody tr th {\n",
       "        vertical-align: top;\n",
       "    }\n",
       "\n",
       "    .dataframe thead th {\n",
       "        text-align: right;\n",
       "    }\n",
       "</style>\n",
       "<table border=\"1\" class=\"dataframe\">\n",
       "  <thead>\n",
       "    <tr style=\"text-align: right;\">\n",
       "      <th></th>\n",
       "      <th>Q11</th>\n",
       "      <th>Q12</th>\n",
       "      <th>Q13</th>\n",
       "      <th>Q14</th>\n",
       "      <th>Q15</th>\n",
       "      <th>Q16</th>\n",
       "      <th>Q17</th>\n",
       "      <th>Q18</th>\n",
       "      <th>Q19</th>\n",
       "    </tr>\n",
       "  </thead>\n",
       "  <tbody>\n",
       "    <tr>\n",
       "      <th>count</th>\n",
       "      <td>14941.000000</td>\n",
       "      <td>14933.000000</td>\n",
       "      <td>14960.000000</td>\n",
       "      <td>14964.000000</td>\n",
       "      <td>14955.000000</td>\n",
       "      <td>14967.000000</td>\n",
       "      <td>14963.000000</td>\n",
       "      <td>14937.000000</td>\n",
       "      <td>14947.000000</td>\n",
       "    </tr>\n",
       "    <tr>\n",
       "      <th>mean</th>\n",
       "      <td>3.123419</td>\n",
       "      <td>3.798835</td>\n",
       "      <td>3.701404</td>\n",
       "      <td>3.723603</td>\n",
       "      <td>3.021130</td>\n",
       "      <td>3.433621</td>\n",
       "      <td>3.941121</td>\n",
       "      <td>3.903461</td>\n",
       "      <td>3.385763</td>\n",
       "    </tr>\n",
       "    <tr>\n",
       "      <th>std</th>\n",
       "      <td>1.569761</td>\n",
       "      <td>1.233672</td>\n",
       "      <td>1.321331</td>\n",
       "      <td>1.160248</td>\n",
       "      <td>1.514791</td>\n",
       "      <td>1.399485</td>\n",
       "      <td>1.136492</td>\n",
       "      <td>1.322643</td>\n",
       "      <td>1.546368</td>\n",
       "    </tr>\n",
       "    <tr>\n",
       "      <th>min</th>\n",
       "      <td>1.000000</td>\n",
       "      <td>1.000000</td>\n",
       "      <td>1.000000</td>\n",
       "      <td>1.000000</td>\n",
       "      <td>1.000000</td>\n",
       "      <td>1.000000</td>\n",
       "      <td>1.000000</td>\n",
       "      <td>1.000000</td>\n",
       "      <td>1.000000</td>\n",
       "    </tr>\n",
       "    <tr>\n",
       "      <th>25%</th>\n",
       "      <td>1.000000</td>\n",
       "      <td>3.000000</td>\n",
       "      <td>3.000000</td>\n",
       "      <td>3.000000</td>\n",
       "      <td>1.000000</td>\n",
       "      <td>2.000000</td>\n",
       "      <td>3.000000</td>\n",
       "      <td>3.000000</td>\n",
       "      <td>2.000000</td>\n",
       "    </tr>\n",
       "    <tr>\n",
       "      <th>50%</th>\n",
       "      <td>3.000000</td>\n",
       "      <td>4.000000</td>\n",
       "      <td>4.000000</td>\n",
       "      <td>4.000000</td>\n",
       "      <td>3.000000</td>\n",
       "      <td>4.000000</td>\n",
       "      <td>4.000000</td>\n",
       "      <td>4.000000</td>\n",
       "      <td>4.000000</td>\n",
       "    </tr>\n",
       "    <tr>\n",
       "      <th>75%</th>\n",
       "      <td>5.000000</td>\n",
       "      <td>5.000000</td>\n",
       "      <td>5.000000</td>\n",
       "      <td>5.000000</td>\n",
       "      <td>4.000000</td>\n",
       "      <td>5.000000</td>\n",
       "      <td>5.000000</td>\n",
       "      <td>5.000000</td>\n",
       "      <td>5.000000</td>\n",
       "    </tr>\n",
       "    <tr>\n",
       "      <th>max</th>\n",
       "      <td>5.000000</td>\n",
       "      <td>5.000000</td>\n",
       "      <td>5.000000</td>\n",
       "      <td>5.000000</td>\n",
       "      <td>5.000000</td>\n",
       "      <td>5.000000</td>\n",
       "      <td>5.000000</td>\n",
       "      <td>5.000000</td>\n",
       "      <td>5.000000</td>\n",
       "    </tr>\n",
       "  </tbody>\n",
       "</table>\n",
       "</div>"
      ],
      "text/plain": [
       "                Q11           Q12           Q13           Q14           Q15  \\\n",
       "count  14941.000000  14933.000000  14960.000000  14964.000000  14955.000000   \n",
       "mean       3.123419      3.798835      3.701404      3.723603      3.021130   \n",
       "std        1.569761      1.233672      1.321331      1.160248      1.514791   \n",
       "min        1.000000      1.000000      1.000000      1.000000      1.000000   \n",
       "25%        1.000000      3.000000      3.000000      3.000000      1.000000   \n",
       "50%        3.000000      4.000000      4.000000      4.000000      3.000000   \n",
       "75%        5.000000      5.000000      5.000000      5.000000      4.000000   \n",
       "max        5.000000      5.000000      5.000000      5.000000      5.000000   \n",
       "\n",
       "                Q16           Q17           Q18           Q19  \n",
       "count  14967.000000  14963.000000  14937.000000  14947.000000  \n",
       "mean       3.433621      3.941121      3.903461      3.385763  \n",
       "std        1.399485      1.136492      1.322643      1.546368  \n",
       "min        1.000000      1.000000      1.000000      1.000000  \n",
       "25%        2.000000      3.000000      3.000000      2.000000  \n",
       "50%        4.000000      4.000000      4.000000      4.000000  \n",
       "75%        5.000000      5.000000      5.000000      5.000000  \n",
       "max        5.000000      5.000000      5.000000      5.000000  "
      ]
     },
     "metadata": {},
     "output_type": "display_data"
    },
    {
     "data": {
      "text/html": [
       "<div>\n",
       "<style scoped>\n",
       "    .dataframe tbody tr th:only-of-type {\n",
       "        vertical-align: middle;\n",
       "    }\n",
       "\n",
       "    .dataframe tbody tr th {\n",
       "        vertical-align: top;\n",
       "    }\n",
       "\n",
       "    .dataframe thead th {\n",
       "        text-align: right;\n",
       "    }\n",
       "</style>\n",
       "<table border=\"1\" class=\"dataframe\">\n",
       "  <thead>\n",
       "    <tr style=\"text-align: right;\">\n",
       "      <th></th>\n",
       "      <th>Q21</th>\n",
       "      <th>Q22</th>\n",
       "      <th>Q23</th>\n",
       "      <th>Q24</th>\n",
       "      <th>Q25</th>\n",
       "      <th>Q26</th>\n",
       "    </tr>\n",
       "  </thead>\n",
       "  <tbody>\n",
       "    <tr>\n",
       "      <th>count</th>\n",
       "      <td>14961.000000</td>\n",
       "      <td>14962.000000</td>\n",
       "      <td>14950.000000</td>\n",
       "      <td>14939.000000</td>\n",
       "      <td>14956.000000</td>\n",
       "      <td>14932.000000</td>\n",
       "    </tr>\n",
       "    <tr>\n",
       "      <th>mean</th>\n",
       "      <td>2.968384</td>\n",
       "      <td>2.412846</td>\n",
       "      <td>3.835452</td>\n",
       "      <td>4.296740</td>\n",
       "      <td>3.151444</td>\n",
       "      <td>4.161465</td>\n",
       "    </tr>\n",
       "    <tr>\n",
       "      <th>std</th>\n",
       "      <td>1.609673</td>\n",
       "      <td>1.375515</td>\n",
       "      <td>1.360530</td>\n",
       "      <td>0.919564</td>\n",
       "      <td>1.376888</td>\n",
       "      <td>1.030046</td>\n",
       "    </tr>\n",
       "    <tr>\n",
       "      <th>min</th>\n",
       "      <td>1.000000</td>\n",
       "      <td>1.000000</td>\n",
       "      <td>1.000000</td>\n",
       "      <td>1.000000</td>\n",
       "      <td>1.000000</td>\n",
       "      <td>1.000000</td>\n",
       "    </tr>\n",
       "    <tr>\n",
       "      <th>25%</th>\n",
       "      <td>1.000000</td>\n",
       "      <td>1.000000</td>\n",
       "      <td>3.000000</td>\n",
       "      <td>4.000000</td>\n",
       "      <td>2.000000</td>\n",
       "      <td>4.000000</td>\n",
       "    </tr>\n",
       "    <tr>\n",
       "      <th>50%</th>\n",
       "      <td>3.000000</td>\n",
       "      <td>2.000000</td>\n",
       "      <td>4.000000</td>\n",
       "      <td>5.000000</td>\n",
       "      <td>3.000000</td>\n",
       "      <td>4.000000</td>\n",
       "    </tr>\n",
       "    <tr>\n",
       "      <th>75%</th>\n",
       "      <td>5.000000</td>\n",
       "      <td>3.000000</td>\n",
       "      <td>5.000000</td>\n",
       "      <td>5.000000</td>\n",
       "      <td>4.000000</td>\n",
       "      <td>5.000000</td>\n",
       "    </tr>\n",
       "    <tr>\n",
       "      <th>max</th>\n",
       "      <td>5.000000</td>\n",
       "      <td>5.000000</td>\n",
       "      <td>5.000000</td>\n",
       "      <td>5.000000</td>\n",
       "      <td>5.000000</td>\n",
       "      <td>5.000000</td>\n",
       "    </tr>\n",
       "  </tbody>\n",
       "</table>\n",
       "</div>"
      ],
      "text/plain": [
       "                Q21           Q22           Q23           Q24           Q25  \\\n",
       "count  14961.000000  14962.000000  14950.000000  14939.000000  14956.000000   \n",
       "mean       2.968384      2.412846      3.835452      4.296740      3.151444   \n",
       "std        1.609673      1.375515      1.360530      0.919564      1.376888   \n",
       "min        1.000000      1.000000      1.000000      1.000000      1.000000   \n",
       "25%        1.000000      1.000000      3.000000      4.000000      2.000000   \n",
       "50%        3.000000      2.000000      4.000000      5.000000      3.000000   \n",
       "75%        5.000000      3.000000      5.000000      5.000000      4.000000   \n",
       "max        5.000000      5.000000      5.000000      5.000000      5.000000   \n",
       "\n",
       "                Q26  \n",
       "count  14932.000000  \n",
       "mean       4.161465  \n",
       "std        1.030046  \n",
       "min        1.000000  \n",
       "25%        4.000000  \n",
       "50%        4.000000  \n",
       "75%        5.000000  \n",
       "max        5.000000  "
      ]
     },
     "metadata": {},
     "output_type": "display_data"
    }
   ],
   "source": [
    "display(train.iloc[:, 1:10].describe())\n",
    "display(train.iloc[:, 11:20].describe())\n",
    "display(train.iloc[:, 21:27].describe())"
   ]
  },
  {
   "cell_type": "code",
   "execution_count": 11,
   "id": "907187b7",
   "metadata": {},
   "outputs": [],
   "source": [
    "train_Qs = train.iloc[:, 1:27]"
   ]
  },
  {
   "cell_type": "code",
   "execution_count": 12,
   "id": "8b59766a",
   "metadata": {},
   "outputs": [],
   "source": [
    "train_Qs['nerdiness'] = train['nerdiness']"
   ]
  },
  {
   "cell_type": "code",
   "execution_count": 13,
   "id": "a8eb4032",
   "metadata": {},
   "outputs": [],
   "source": [
    "for c in Qs:\n",
    "    mean_df = train_Qs.groupby(c)['nerdiness'].agg('mean')\n",
    "    final_train[c] = train[c].map(mean_df)\n",
    "    final_test[c] = test[c].map(mean_df)"
   ]
  },
  {
   "cell_type": "markdown",
   "id": "fdf966c8",
   "metadata": {},
   "source": [
    "## TIPI1 ~ TIPI10"
   ]
  },
  {
   "cell_type": "code",
   "execution_count": 17,
   "id": "f7acc344",
   "metadata": {},
   "outputs": [
    {
     "data": {
      "text/plain": [
       "TIPI1\n",
       "1.0    0.647515\n",
       "2.0    0.590264\n",
       "3.0    0.509051\n",
       "4.0    0.490276\n",
       "5.0    0.524272\n",
       "Name: nerdiness, dtype: float64"
      ]
     },
     "metadata": {},
     "output_type": "display_data"
    },
    {
     "data": {
      "text/plain": [
       "TIPI2\n",
       "1.0    0.556116\n",
       "2.0    0.532758\n",
       "3.0    0.547437\n",
       "4.0    0.572988\n",
       "5.0    0.588448\n",
       "Name: nerdiness, dtype: float64"
      ]
     },
     "metadata": {},
     "output_type": "display_data"
    },
    {
     "data": {
      "text/plain": [
       "TIPI3\n",
       "1.0    0.526846\n",
       "2.0    0.563307\n",
       "3.0    0.532462\n",
       "4.0    0.575373\n",
       "5.0    0.584342\n",
       "Name: nerdiness, dtype: float64"
      ]
     },
     "metadata": {},
     "output_type": "display_data"
    },
    {
     "data": {
      "text/plain": [
       "TIPI4\n",
       "1.0    0.536932\n",
       "2.0    0.537153\n",
       "3.0    0.532669\n",
       "4.0    0.588039\n",
       "5.0    0.590032\n",
       "Name: nerdiness, dtype: float64"
      ]
     },
     "metadata": {},
     "output_type": "display_data"
    },
    {
     "data": {
      "text/plain": [
       "TIPI5\n",
       "1.0    0.578125\n",
       "2.0    0.588367\n",
       "3.0    0.531244\n",
       "4.0    0.549323\n",
       "5.0    0.585542\n",
       "Name: nerdiness, dtype: float64"
      ]
     },
     "metadata": {},
     "output_type": "display_data"
    },
    {
     "data": {
      "text/plain": [
       "TIPI6\n",
       "1.0    0.441379\n",
       "2.0    0.529609\n",
       "3.0    0.516907\n",
       "4.0    0.571829\n",
       "5.0    0.611198\n",
       "Name: nerdiness, dtype: float64"
      ]
     },
     "metadata": {},
     "output_type": "display_data"
    },
    {
     "data": {
      "text/plain": [
       "TIPI7\n",
       "1.0    0.591652\n",
       "2.0    0.557346\n",
       "3.0    0.527097\n",
       "4.0    0.560243\n",
       "5.0    0.601787\n",
       "Name: nerdiness, dtype: float64"
      ]
     },
     "metadata": {},
     "output_type": "display_data"
    },
    {
     "data": {
      "text/plain": [
       "TIPI8\n",
       "1.0    0.547501\n",
       "2.0    0.550339\n",
       "3.0    0.536615\n",
       "4.0    0.580372\n",
       "5.0    0.604298\n",
       "Name: nerdiness, dtype: float64"
      ]
     },
     "metadata": {},
     "output_type": "display_data"
    },
    {
     "data": {
      "text/plain": [
       "TIPI9\n",
       "1.0    0.608624\n",
       "2.0    0.565574\n",
       "3.0    0.545113\n",
       "4.0    0.550051\n",
       "5.0    0.558732\n",
       "Name: nerdiness, dtype: float64"
      ]
     },
     "metadata": {},
     "output_type": "display_data"
    },
    {
     "data": {
      "text/plain": [
       "TIPI10\n",
       "1.0    0.618666\n",
       "2.0    0.573662\n",
       "3.0    0.489265\n",
       "4.0    0.457143\n",
       "5.0    0.596107\n",
       "Name: nerdiness, dtype: float64"
      ]
     },
     "metadata": {},
     "output_type": "display_data"
    }
   ],
   "source": [
    "TIPIS = [x for x in train.columns if x.startswith('TIPI')]\n",
    "for column in TIPIS:\n",
    "    mean_df = train.groupby(column)['nerdiness'].agg('mean')\n",
    "    display(mean_df)\n",
    "    final_train[column] = train[column].map(mean_df)\n",
    "    final_test[column] = test[column].map(mean_df)"
   ]
  },
  {
   "cell_type": "markdown",
   "id": "5d3211ff",
   "metadata": {},
   "source": [
    "## About VCL1 ~ VCL16"
   ]
  },
  {
   "cell_type": "code",
   "execution_count": null,
   "id": "c8674b96",
   "metadata": {},
   "outputs": [],
   "source": []
  },
  {
   "cell_type": "markdown",
   "id": "b2848a98",
   "metadata": {},
   "source": [
    "## About "
   ]
  },
  {
   "cell_type": "code",
   "execution_count": 21,
   "id": "ed8b64b8",
   "metadata": {},
   "outputs": [
    {
     "data": {
      "text/plain": [
       "Index(['index', 'Q1', 'Q2', 'Q3', 'Q4', 'Q5', 'Q6', 'Q7', 'Q8', 'Q9', 'Q10',\n",
       "       'Q11', 'Q12', 'Q13', 'Q14', 'Q15', 'Q16', 'Q17', 'Q18', 'Q19', 'Q20',\n",
       "       'Q21', 'Q22', 'Q23', 'Q24', 'Q25', 'Q26', 'country', 'introelapse',\n",
       "       'testelapse', 'surveyelapse', 'TIPI1', 'TIPI2', 'TIPI3', 'TIPI4',\n",
       "       'TIPI5', 'TIPI6', 'TIPI7', 'TIPI8', 'TIPI9', 'TIPI10', 'VCL1', 'VCL2',\n",
       "       'VCL3', 'VCL4', 'VCL5', 'VCL6', 'VCL7', 'VCL8', 'VCL9', 'VCL10',\n",
       "       'VCL11', 'VCL12', 'VCL13', 'VCL14', 'VCL15', 'VCL16', 'education',\n",
       "       'urban', 'gender', 'engnat', 'age', 'hand', 'religion', 'orientation',\n",
       "       'voted', 'married', 'familysize', 'ASD', 'nerdiness', 'Qs_Mach'],\n",
       "      dtype='object')"
      ]
     },
     "execution_count": 21,
     "metadata": {},
     "output_type": "execute_result"
    }
   ],
   "source": [
    "train.columns"
   ]
  },
  {
   "cell_type": "code",
   "execution_count": 24,
   "id": "6a10be94",
   "metadata": {},
   "outputs": [
    {
     "data": {
      "text/plain": [
       "<AxesSubplot:xlabel='education', ylabel='count'>"
      ]
     },
     "execution_count": 24,
     "metadata": {},
     "output_type": "execute_result"
    },
    {
     "data": {
      "image/png": "[encoded data removed]",
      "text/plain": [
       "<Figure size 360x288 with 1 Axes>"
      ]
     },
     "metadata": {
      "needs_background": "light"
     },
     "output_type": "display_data"
    }
   ],
   "source": [
    "plt.figure(figsize = (5,4))\n",
    "sns.countplot(data = train, x = 'education', hue = train['nerdiness'])"
   ]
  },
  {
   "cell_type": "code",
   "execution_count": 25,
   "id": "ab884b78",
   "metadata": {},
   "outputs": [
    {
     "data": {
      "text/plain": [
       "<AxesSubplot:xlabel='urban', ylabel='count'>"
      ]
     },
     "execution_count": 25,
     "metadata": {},
     "output_type": "execute_result"
    },
    {
     "data": {
      "image/png": "[encoded data removed]",
      "text/plain": [
       "<Figure size 360x288 with 1 Axes>"
      ]
     },
     "metadata": {
      "needs_background": "light"
     },
     "output_type": "display_data"
    }
   ],
   "source": [
    "plt.figure(figsize = (5,4))\n",
    "sns.countplot(data = train, x = 'urban', hue = train['nerdiness'])"
   ]
  },
  {
   "cell_type": "code",
   "execution_count": 26,
   "id": "31c8522f",
   "metadata": {},
   "outputs": [
    {
     "data": {
      "text/plain": [
       "<AxesSubplot:xlabel='gender', ylabel='count'>"
      ]
     },
     "execution_count": 26,
     "metadata": {},
     "output_type": "execute_result"
    },
    {
     "data": {
      "image/png": "[encoded data removed]",
      "text/plain": [
       "<Figure size 360x288 with 1 Axes>"
      ]
     },
     "metadata": {
      "needs_background": "light"
     },
     "output_type": "display_data"
    }
   ],
   "source": [
    "plt.figure(figsize = (5,4))\n",
    "sns.countplot(data = train, x = 'gender', hue = train['nerdiness'])"
   ]
  },
  {
   "cell_type": "code",
   "execution_count": null,
   "id": "4ded9047",
   "metadata": {},
   "outputs": [],
   "source": []
  }
 ],
 "metadata": {
  "kernelspec": {
   "display_name": "Python 3 (ipykernel)",
   "language": "python",
   "name": "python3"
  },
  "language_info": {
   "codemirror_mode": {
    "name": "ipython",
    "version": 3
   },
   "file_extension": ".py",
   "mimetype": "text/x-python",
   "name": "python",
   "nbconvert_exporter": "python",
   "pygments_lexer": "ipython3",
   "version": "3.8.5"
  }
 },
 "nbformat": 4,
 "nbformat_minor": 5
}
